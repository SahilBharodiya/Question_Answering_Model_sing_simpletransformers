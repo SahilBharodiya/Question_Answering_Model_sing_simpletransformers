{
  "nbformat": 4,
  "nbformat_minor": 2,
  "metadata": {
    "colab": {
      "name": "SQUD.ipynb",
      "provenance": []
    },
    "kernelspec": {
      "name": "python3",
      "display_name": "Python 3.9.6 64-bit"
    },
    "language_info": {
      "name": "python",
      "version": "3.9.6",
      "mimetype": "text/x-python",
      "codemirror_mode": {
        "name": "ipython",
        "version": 3
      },
      "pygments_lexer": "ipython3",
      "nbconvert_exporter": "python",
      "file_extension": ".py"
    },
    "accelerator": "GPU",
    "interpreter": {
      "hash": "782b051eabd79fbfbb7ae0cbdce97a9ada4b5a05b4f5b6d73f892121dfe1c7b8"
    }
  },
  "cells": [
    {
      "cell_type": "code",
      "execution_count": 1,
      "source": [
        "import json\r\n",
        "\r\n",
        "with open('train-v2.0.json', 'r') as f_train:\r\n",
        "    train = json.load(f_train)\r\n",
        "    train_0 = train['data'][0]['paragraphs'][:10]\r\n",
        "\r\n",
        "with open('dev-v2.0.json', 'r') as f_test:\r\n",
        "    test = json.load(f_test)\r\n",
        "    test_0 = test['data'][0]['paragraphs'][:10]"
      ],
      "outputs": [],
      "metadata": {
        "id": "VyKi6As0yZrW",
        "colab": {
          "base_uri": "https://localhost:8080/",
          "height": 370
        },
        "outputId": "eb5b2cdc-6f2b-403b-fd06-6e683c399cdb"
      }
    },
    {
      "cell_type": "code",
      "execution_count": 2,
      "source": [
        "import logging\r\n",
        "\r\n",
        "from simpletransformers.question_answering import QuestionAnsweringArgs, QuestionAnsweringModel"
      ],
      "outputs": [],
      "metadata": {
        "id": "qiOZZObJ0wWZ"
      }
    },
    {
      "cell_type": "code",
      "execution_count": 3,
      "source": [
        "model_type = 'bert'\r\n",
        "\r\n",
        "model_name = 'bert-base-cased'\r\n",
        "\r\n",
        "if model_type == 'bert':\r\n",
        "    model_name = 'bert-base-cased'\r\n",
        "\r\n",
        "elif model_type == 'roberta':\r\n",
        "    model_name = 'distilbert-base-cased'\r\n",
        "\r\n",
        "elif model_type == 'distilroberta':\r\n",
        "    model_type = 'roberta'\r\n",
        "    model_name = 'distilroberta-base'\r\n",
        "\r\n",
        "elif model_type == 'electra-base':\r\n",
        "    model_type = 'electra'\r\n",
        "    model_name = 'google/electra-base-discriminator'\r\n",
        "\r\n",
        "elif model_type == 'electra-small':\r\n",
        "    model_type = 'electra'\r\n",
        "    model_name = 'google/electra-small-discriminator'\r\n",
        "\r\n",
        "elif model_type == 'xlnet':\r\n",
        "    model_name = 'xlnet-based-cased'"
      ],
      "outputs": [],
      "metadata": {
        "id": "BdW5h_JF1ZIm"
      }
    },
    {
      "cell_type": "code",
      "execution_count": 4,
      "source": [
        "model_args = QuestionAnsweringArgs()\r\n",
        "\r\n",
        "model_args.train_batch_size = 16\r\n",
        "model_args.evaluate_during_training = True\r\n",
        "model_args.n_best_size = 3\r\n",
        "model_args.num_train_epochs = 5"
      ],
      "outputs": [],
      "metadata": {
        "id": "bG-h-y5-2t0G"
      }
    },
    {
      "cell_type": "code",
      "execution_count": 5,
      "source": [
        "train_args = {\r\n",
        "    \"reprocess_input_data\": True,\r\n",
        "    \"overwrite_output_dir\": True,\r\n",
        "    \"use_cached_eval_features\": True,\r\n",
        "    \"output_dir\": f'outputs/{model_type}/best_model',\r\n",
        "    \"best_model_dir\": f'outputs/{model_type}/best_model',\r\n",
        "    \"evaluate_during_training\": True,\r\n",
        "    \"max_seq_length\": 128,\r\n",
        "    \"num_train_epochs\": 5,\r\n",
        "    \"evaluate_during_training_steps\": 1000,\r\n",
        "    \"wandb_project\": \"Question Answer Application\",\r\n",
        "    \"wandb_kwargs\": {\"name\": model_name},\r\n",
        "    \"save_model_every_epoch\": False,\r\n",
        "    \"save_eval_checkpoints\": False,\r\n",
        "    \"n_best_size\":3,\r\n",
        "    # \"use_early_stopping\": True,\r\n",
        "    # \"early_stopping_metric\": \"mcc\";\r\n",
        "    # \"n_gpu\": 2,\r\n",
        "    # \"manual_seed\": 4,\r\n",
        "    # \"use_multiprocessing\": False,\r\n",
        "    \"train_batch_size\": 128,\r\n",
        "    \"eval_batch_size\": 64,\r\n",
        "    # \"config\":{\"output_hidden_states\": True}\r\n",
        "}"
      ],
      "outputs": [],
      "metadata": {
        "id": "eeEgSDq93I73"
      }
    },
    {
      "cell_type": "code",
      "execution_count": 6,
      "source": [
        "model = QuestionAnsweringModel(\r\n",
        "    model_type, model_name, args = train_args, use_cuda=False\r\n",
        ")"
      ],
      "outputs": [
        {
          "output_type": "stream",
          "name": "stderr",
          "text": [
            "Some weights of the model checkpoint at bert-base-cased were not used when initializing BertForQuestionAnswering: ['cls.seq_relationship.bias', 'cls.predictions.transform.LayerNorm.weight', 'cls.seq_relationship.weight', 'cls.predictions.transform.LayerNorm.bias', 'cls.predictions.transform.dense.weight', 'cls.predictions.transform.dense.bias', 'cls.predictions.bias', 'cls.predictions.decoder.weight']\n",
            "- This IS expected if you are initializing BertForQuestionAnswering from the checkpoint of a model trained on another task or with another architecture (e.g. initializing a BertForSequenceClassification model from a BertForPreTraining model).\n",
            "- This IS NOT expected if you are initializing BertForQuestionAnswering from the checkpoint of a model that you expect to be exactly identical (initializing a BertForSequenceClassification model from a BertForSequenceClassification model).\n",
            "Some weights of BertForQuestionAnswering were not initialized from the model checkpoint at bert-base-cased and are newly initialized: ['qa_outputs.bias', 'qa_outputs.weight']\n",
            "You should probably TRAIN this model on a down-stream task to be able to use it for predictions and inference.\n"
          ]
        }
      ],
      "metadata": {
        "id": "t0rhzvtW5t8x"
      }
    },
    {
      "cell_type": "code",
      "execution_count": 7,
      "source": [
        "model.train_model(train_0, eval_data=test_0)"
      ],
      "outputs": [
        {
          "output_type": "stream",
          "name": "stderr",
          "text": [
            "convert squad examples to features: 100%|██████████| 125/125 [00:00<00:00, 151.29it/s]\n",
            "add example index and unique id: 100%|██████████| 125/125 [00:00<?, ?it/s]\n",
            "Epoch:   0%|          | 0/5 [00:00<?, ?it/s]Failed to detect the name of this notebook, you can set it manually with the WANDB_NOTEBOOK_NAME environment variable to enable code saving.\n",
            "wandb: Currently logged in as: sahil2024 (use `wandb login --relogin` to force relogin)\n"
          ]
        },
        {
          "output_type": "display_data",
          "data": {
            "text/html": [
              "\n",
              "                Tracking run with wandb version 0.12.1<br/>\n",
              "                Syncing run <strong style=\"color:#cdcd00\">bert-base-cased</strong> to <a href=\"https://wandb.ai\" target=\"_blank\">Weights & Biases</a> <a href=\"https://docs.wandb.com/integrations/jupyter.html\" target=\"_blank\">(Documentation)</a>.<br/>\n",
              "                Project page: <a href=\"https://wandb.ai/sahil2024/Question%20Answer%20Application\" target=\"_blank\">https://wandb.ai/sahil2024/Question%20Answer%20Application</a><br/>\n",
              "                Run page: <a href=\"https://wandb.ai/sahil2024/Question%20Answer%20Application/runs/1x0ih8ya\" target=\"_blank\">https://wandb.ai/sahil2024/Question%20Answer%20Application/runs/1x0ih8ya</a><br/>\n",
              "                Run data is saved locally in <code>h:\\AI-ML\\NLU\\wandb\\run-20210908_193957-1x0ih8ya</code><br/><br/>\n",
              "            "
            ],
            "text/plain": [
              "<IPython.core.display.HTML object>"
            ]
          },
          "metadata": {}
        },
        {
          "output_type": "stream",
          "name": "stderr",
          "text": [
            "Epoch 1 of 5:   0%|          | 0/5 [00:05<?, ?it/s]"
          ]
        }
      ],
      "metadata": {
        "id": "2xhC5wJO5-6V"
      }
    },
    {
      "cell_type": "code",
      "execution_count": null,
      "source": [
        "result, text = model.eval_model(test_0)"
      ],
      "outputs": [],
      "metadata": {
        "id": "8qbUU7d_6-B9"
      }
    },
    {
      "cell_type": "code",
      "execution_count": null,
      "source": [
        "result"
      ],
      "outputs": [],
      "metadata": {
        "id": "e4cS_oQ67Mj4"
      }
    },
    {
      "cell_type": "code",
      "execution_count": null,
      "source": [
        "to_predict = [\r\n",
        "    {\r\n",
        "        \"qas\": [\r\n",
        "            {\r\n",
        "                \"question\": \"Horn Cable Television and Universal TV are examples of what?\",\r\n",
        "                \"id\": \"56e1c227cd28a01900c67b32\"\r\n",
        "            },\r\n",
        "            {\r\n",
        "                \"question\": \"What type of Tv startions replay AL=jazeera and CNN?\",\r\n",
        "                \"id\": \"56e1c227cd28a01900c67b33\"\r\n",
        "            },\r\n",
        "            {\r\n",
        "                \"question\": \"Where does SBC TV broadcast from?\",\r\n",
        "                \"id\": \"56e1c227cd28a01900c67b34\"\r\n",
        "            },\r\n",
        "            {\r\n",
        "                \"question\": \"What is the commercial capital of Puntland?\",\r\n",
        "                \"id\": \"56e1c227cd28a01900c67b35\"\r\n",
        "            },\r\n",
        "            {\r\n",
        "                \"question\": \"Howmany governemnt run channels do Puntland and Somaliland regions have?\",\r\n",
        "                \"id\": \"56e1c227cd28a01900c67b36\"\r\n",
        "            },\r\n",
        "            {\r\n",
        "                \"question\": \"How many private television networks does Somalia have?\",\r\n",
        "                \"id\": \"5a550d72134fea001a0e186a\"\r\n",
        "            },\r\n",
        "            {\r\n",
        "                \"question\": \"What are two public television networks?\",\r\n",
        "                \"id\": \"5a550d72134fea001a0e186b\"\r\n",
        "            },\r\n",
        "            {\r\n",
        "                \"question\": \"What is the commercial capital of Somalilnand?\",\r\n",
        "                \"id\": \"5a550d72134fea001a0e186c\"\r\n",
        "            },\r\n",
        "            {\r\n",
        "                \"question\": \"How many government-run TV channels are there in Somalia?\",\r\n",
        "                \"id\": \"5a550d72134fea001a0e186d\"\r\n",
        "            },\r\n",
        "            {\r\n",
        "                \"question\": \"What TV station broadcasts ABC?\",\r\n",
        "                \"id\": \"5a550d72134fea001a0e186e\"\r\n",
        "            }\r\n",
        "            ],\r\n",
        "            \"context\": \"Additionally, Somalia has several private television networks, including Horn Cable Television and Universal TV. Two such TV stations re-broadcast Al-Jazeera and CNN. Eastern Television Network and SBC TV air from Bosaso, the commercial capital of Puntland. The Puntland and Somaliland regions also each have one government-run TV channel, Puntland TV and Radio and Somaliland National TV, respectively.\"\r\n",
        "\r\n",
        "    },\r\n",
        "]"
      ],
      "outputs": [],
      "metadata": {
        "id": "itHKRNej8QvS"
      }
    },
    {
      "cell_type": "code",
      "execution_count": null,
      "source": [
        "answer, probabilities = model.predict(to_predict)"
      ],
      "outputs": [],
      "metadata": {
        "id": "XGk5xzpd9m4x"
      }
    },
    {
      "cell_type": "code",
      "execution_count": null,
      "source": [
        "answer[0]['answer']"
      ],
      "outputs": [],
      "metadata": {
        "colab": {
          "base_uri": "https://localhost:8080/"
        },
        "id": "hf0w-vWvDhje",
        "outputId": "9a9ac81c-e46f-4443-f2da-64ceb989445d"
      }
    }
  ]
}